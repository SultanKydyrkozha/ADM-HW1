{
 "cells": [
  {
   "cell_type": "markdown",
   "id": "6294eb8a",
   "metadata": {},
   "source": [
    "# Introduction"
   ]
  },
  {
   "cell_type": "markdown",
   "id": "40be9617",
   "metadata": {},
   "source": [
    "# 1 - Say \"Hello, World!\" With Python"
   ]
  },
  {
   "cell_type": "code",
   "execution_count": null,
   "id": "3024b1c9",
   "metadata": {},
   "outputs": [],
   "source": [
    "print(\"Hello, World!\")"
   ]
  },
  {
   "cell_type": "markdown",
   "id": "da177bd7",
   "metadata": {},
   "source": [
    "# 2 - Python If-Else"
   ]
  },
  {
   "cell_type": "code",
   "execution_count": null,
   "id": "01b6f5ab",
   "metadata": {},
   "outputs": [],
   "source": [
    "#!/bin/python3\n",
    "\n",
    "import math\n",
    "import os\n",
    "import random\n",
    "import re\n",
    "import sys\n",
    "\n",
    "\n",
    "\n",
    "if __name__ == '__main__':\n",
    "    n = int(input().strip())\n",
    "    if n % 2 != 0:\n",
    "        print(\"Weird\")\n",
    "    elif n % 2 == 0 and 2 <= n <= 5:\n",
    "        print(\"Not Weird\")     \n",
    "    elif n % 2 == 0 and 6 <= n <= 20:\n",
    "        print(\"Weird\")    \n",
    "    elif n % 2 == 0 and n > 20:\n",
    "        print(\"Not Weird\") \n"
   ]
  },
  {
   "cell_type": "markdown",
   "id": "a16b6035",
   "metadata": {},
   "source": [
    "#  3 - Arithmetic Operators"
   ]
  },
  {
   "cell_type": "code",
   "execution_count": null,
   "id": "2cd85c85",
   "metadata": {},
   "outputs": [],
   "source": [
    "if __name__ == '__main__':\n",
    "    a = int(input())\n",
    "    b = int(input())\n",
    "    print(a + b)\n",
    "    print(a - b)\n",
    "    print(a * b)"
   ]
  },
  {
   "cell_type": "markdown",
   "id": "db4e80fc",
   "metadata": {},
   "source": [
    "# 4 - Python: Division"
   ]
  },
  {
   "cell_type": "code",
   "execution_count": null,
   "id": "7bf92b82",
   "metadata": {},
   "outputs": [],
   "source": [
    "if __name__ == '__main__':\n",
    "    a = int(input())\n",
    "    b = int(input())\n",
    "    print(a // b)\n",
    "    print(a / b)"
   ]
  },
  {
   "cell_type": "markdown",
   "id": "c6b12bb7",
   "metadata": {},
   "source": [
    "# 5 - Loops"
   ]
  },
  {
   "cell_type": "code",
   "execution_count": null,
   "id": "0d97ee1e",
   "metadata": {},
   "outputs": [],
   "source": [
    "if __name__ == '__main__':\n",
    "    n = int(input())\n",
    "    for i in range(n):\n",
    "        print(pow(i, 2))"
   ]
  },
  {
   "cell_type": "markdown",
   "id": "7b9f2c8c",
   "metadata": {},
   "source": [
    "# 6 - Write a function"
   ]
  },
  {
   "cell_type": "code",
   "execution_count": null,
   "id": "cece74d6",
   "metadata": {},
   "outputs": [],
   "source": [
    "def is_leap(year):\n",
    "    leap = False\n",
    "    \n",
    "    if year % 400 == 0:\n",
    "        leap = True\n",
    "    elif year % 100 == 0:\n",
    "        leap = False\n",
    "    elif year % 4 == 0:\n",
    "        leap = True\n",
    "    \n",
    "    return leap\n",
    "\n",
    "year = int(input())"
   ]
  },
  {
   "cell_type": "markdown",
   "id": "6e6728b5",
   "metadata": {},
   "source": [
    "# 7 - Print Function"
   ]
  },
  {
   "cell_type": "code",
   "execution_count": null,
   "id": "f4a886cf",
   "metadata": {},
   "outputs": [],
   "source": [
    "if __name__ == '__main__':\n",
    "    n = int(input())\n",
    "    for i in range(n):\n",
    "        print(i + 1, end='')"
   ]
  },
  {
   "cell_type": "markdown",
   "id": "a72585c7",
   "metadata": {},
   "source": [
    "# Basic Data Types"
   ]
  },
  {
   "cell_type": "markdown",
   "id": "c0f0b77f",
   "metadata": {},
   "source": [
    "# 1 - Finding the percentage"
   ]
  },
  {
   "cell_type": "code",
   "execution_count": null,
   "id": "b5c8e7c5",
   "metadata": {},
   "outputs": [],
   "source": [
    "if __name__ == '__main__':\n",
    "    n = int(input())\n",
    "    student_marks = {}\n",
    "    for _ in range(n):\n",
    "        name, *line = input().split()\n",
    "        scores = list(map(float, line))\n",
    "        student_marks[name] = scores\n",
    "    query_name = input()\n",
    "    avg = 0\n",
    "    marks = 0\n",
    "    for i in student_marks[query_name]:\n",
    "        marks += i\n",
    "    avg = marks / 3\n",
    "    print(\"%.2f\" % avg)"
   ]
  },
  {
   "cell_type": "markdown",
   "id": "802a2631",
   "metadata": {},
   "source": [
    "# Strings"
   ]
  },
  {
   "cell_type": "markdown",
   "id": "7e95cca7",
   "metadata": {},
   "source": [
    "# 1 - sWAP cASE"
   ]
  },
  {
   "cell_type": "code",
   "execution_count": null,
   "id": "4cffe4c0",
   "metadata": {},
   "outputs": [],
   "source": [
    "def swap_case(s):\n",
    "     return s.swapcase()\n",
    "\n",
    "if __name__ == '__main__':\n",
    "    s = input()\n",
    "    result = swap_case(s)\n",
    "    print(result)"
   ]
  },
  {
   "cell_type": "markdown",
   "id": "9281977c",
   "metadata": {},
   "source": [
    "# 2 - String Split and Join"
   ]
  },
  {
   "cell_type": "code",
   "execution_count": null,
   "id": "4ee9ffc9",
   "metadata": {},
   "outputs": [],
   "source": [
    "def split_and_join(line):\n",
    "    # write your code here\n",
    "    return \"-\".join(line.split(\" \"))\n",
    "\n",
    "if __name__ == '__main__':\n",
    "    line = input()\n",
    "    result = split_and_join(line)\n",
    "    print(result)"
   ]
  },
  {
   "cell_type": "markdown",
   "id": "025b840f",
   "metadata": {},
   "source": [
    "# 3 - What's Your Name?"
   ]
  },
  {
   "cell_type": "code",
   "execution_count": null,
   "id": "17f02b9d",
   "metadata": {},
   "outputs": [],
   "source": [
    "#\n",
    "# Complete the 'print_full_name' function below.\n",
    "#\n",
    "# The function is expected to return a STRING.\n",
    "# The function accepts following parameters:\n",
    "#  1. STRING first\n",
    "#  2. STRING last\n",
    "#\n",
    "\n",
    "def print_full_name(first, last):\n",
    "    # Write your code here\n",
    "    print(f\"Hello {first} {last}! You just delved into python.\")\n",
    "\n",
    "if __name__ == '__main__':\n",
    "    first_name = input()\n",
    "    last_name = input()\n",
    "    print_full_name(first_name, last_name)"
   ]
  },
  {
   "cell_type": "markdown",
   "id": "2c77e5b6",
   "metadata": {},
   "source": [
    "# 4 - Mutations"
   ]
  },
  {
   "cell_type": "code",
   "execution_count": null,
   "id": "11d58d08",
   "metadata": {},
   "outputs": [],
   "source": [
    "def mutate_string(string, position, character):\n",
    "    n = list(string)\n",
    "    n[position] = character\n",
    "    string = \"\".join(n)\n",
    "    return string\n",
    "\n",
    "if __name__ == '__main__':\n",
    "    s = input()\n",
    "    i, c = input().split()\n",
    "    s_new = mutate_string(s, int(i), c)\n",
    "    print(s_new)"
   ]
  },
  {
   "cell_type": "markdown",
   "id": "79a8ae39",
   "metadata": {},
   "source": [
    "# 5 - Find a string"
   ]
  },
  {
   "cell_type": "code",
   "execution_count": null,
   "id": "b42a82e6",
   "metadata": {},
   "outputs": [],
   "source": [
    "def count_substring(string, sub_string):\n",
    "    count = 0\n",
    "    for i in range(len(string)):\n",
    "        if string[i:i+len(sub_string)] == sub_string:\n",
    "            count += 1\n",
    "    return count\n",
    "\n",
    "if __name__ == '__main__':\n",
    "    string = input().strip()\n",
    "    sub_string = input().strip()\n",
    "    \n",
    "    count = count_substring(string, sub_string)\n",
    "    print(count)"
   ]
  },
  {
   "cell_type": "markdown",
   "id": "e83bca66",
   "metadata": {},
   "source": [
    "# 6 - String Validators"
   ]
  },
  {
   "cell_type": "code",
   "execution_count": null,
   "id": "54575856",
   "metadata": {},
   "outputs": [],
   "source": [
    "if __name__ == '__main__':\n",
    "    s = input()\n",
    "    flagIsalnum = True\n",
    "    flagIsalpha = True\n",
    "    flagIsdigit = True\n",
    "    flagIslower = True\n",
    "    flagIsupper = True\n",
    "    for i in range(len(s)):\n",
    "        if s[i].isalnum():\n",
    "            flagIsalnum = True\n",
    "            break\n",
    "        else:\n",
    "            flagIsalnum = False\n",
    "    print(flagIsalnum)\n",
    "\n",
    "    for i in range(len(s)):\n",
    "        if s[i].isalpha():\n",
    "            flagIsalpha = True\n",
    "            break\n",
    "        else:\n",
    "            flagIsalpha = False\n",
    "    print(flagIsalpha)\n",
    "\n",
    "    for i in range(len(s)):\n",
    "        if s[i].isdigit():\n",
    "            flagIsdigit = True\n",
    "            break\n",
    "        else:\n",
    "            flagIsdigit = False\n",
    "    print(flagIsdigit)\n",
    "\n",
    "    for i in range(len(s)):\n",
    "        if s[i].islower():\n",
    "            flagIslower = True\n",
    "            break\n",
    "        else:\n",
    "            flagIslower = False\n",
    "    print(flagIslower)\n",
    "\n",
    "    for i in range(len(s)):\n",
    "        if s[i].isupper():\n",
    "            flagIsupper = True\n",
    "            break\n",
    "        else:\n",
    "            flagIsupper = False\n",
    "    print(flagIsupper)"
   ]
  },
  {
   "cell_type": "markdown",
   "id": "7e446bc0",
   "metadata": {},
   "source": [
    "# 7 - Text Alignment"
   ]
  },
  {
   "cell_type": "code",
   "execution_count": null,
   "id": "c7a5349a",
   "metadata": {},
   "outputs": [],
   "source": [
    "#Replace all ______ with rjust, ljust or center. \n",
    "\n",
    "thickness = int(input()) #This must be an odd number\n",
    "c = 'H'\n",
    "\n",
    "#Top Cone\n",
    "for i in range(thickness):\n",
    "    print((c*i).rjust(thickness-1)+c+(c*i).ljust(thickness-1))\n",
    "\n",
    "#Top Pillars\n",
    "for i in range(thickness+1):\n",
    "    print((c*thickness).center(thickness*2)+(c*thickness).center(thickness*6))\n",
    "\n",
    "#Middle Belt\n",
    "for i in range((thickness+1)//2):\n",
    "    print((c*thickness*5).center(thickness*6))    \n",
    "\n",
    "#Bottom Pillars\n",
    "for i in range(thickness+1):\n",
    "    print((c*thickness).center(thickness*2)+(c*thickness).center(thickness*6))    \n",
    "\n",
    "#Bottom Cone\n",
    "for i in range(thickness):\n",
    "    print(((c*(thickness-i-1)).rjust(thickness)+c+(c*(thickness-i-1)).ljust(thickness)).rjust(thickness*6))"
   ]
  },
  {
   "cell_type": "markdown",
   "id": "4071d361",
   "metadata": {},
   "source": [
    "# 8 - Text Wrap"
   ]
  },
  {
   "cell_type": "code",
   "execution_count": null,
   "id": "c0d2bae2",
   "metadata": {},
   "outputs": [],
   "source": [
    "import textwrap\n",
    "\n",
    "def wrap(string, max_width):\n",
    "    return textwrap.fill(string, width=max_width)\n",
    "\n",
    "if __name__ == '__main__':\n",
    "    string, max_width = input(), int(input())\n",
    "    result = wrap(string, max_width)\n",
    "    print(result)"
   ]
  },
  {
   "cell_type": "markdown",
   "id": "c092cec8",
   "metadata": {},
   "source": [
    "# 9 - Designer Door Mat"
   ]
  },
  {
   "cell_type": "code",
   "execution_count": null,
   "id": "9fa71aef",
   "metadata": {},
   "outputs": [],
   "source": [
    "# Enter your code here. Read input from STDIN. Print output to STDOUT\n",
    "N, M = map(int, input().split())\n",
    "\n",
    "# Top\n",
    "for i in range(1, N, 2):\n",
    "    print((i * \".|.\").center(M,\"-\"))\n",
    "    \n",
    "# Center\n",
    "print(\"WELCOME\".center(M, \"-\"))\n",
    "\n",
    "# Bottom\n",
    "for i in range(N-2, -1, -2):\n",
    "    print((i * \".|.\").center(M,\"-\"))"
   ]
  },
  {
   "cell_type": "markdown",
   "id": "7cd26253",
   "metadata": {},
   "source": [
    "# 10 - Capitalize!"
   ]
  },
  {
   "cell_type": "code",
   "execution_count": null,
   "id": "19be9d7b",
   "metadata": {},
   "outputs": [],
   "source": [
    "#!/bin/python3\n",
    "\n",
    "import math\n",
    "import os\n",
    "import random\n",
    "import re\n",
    "import sys\n",
    "\n",
    "# Complete the solve function below.\n",
    "def solve(s):\n",
    "    for i in s.split():\n",
    "        s = s.replace(i, i.capitalize())\n",
    "    return s\n",
    "\n",
    "if __name__ == '__main__':\n",
    "    fptr = open(os.environ['OUTPUT_PATH'], 'w')\n",
    "\n",
    "    s = input()\n",
    "\n",
    "    result = solve(s)\n",
    "\n",
    "    fptr.write(result + '\\n')\n",
    "\n",
    "    fptr.close()"
   ]
  },
  {
   "cell_type": "markdown",
   "id": "6f6bcaf1",
   "metadata": {},
   "source": [
    "# Sets"
   ]
  },
  {
   "cell_type": "markdown",
   "id": "26525188",
   "metadata": {},
   "source": [
    "# 1 - Set .add()"
   ]
  },
  {
   "cell_type": "code",
   "execution_count": null,
   "id": "777172e6",
   "metadata": {},
   "outputs": [],
   "source": [
    "# Enter your code here. Read input from STDIN. Print output to STDOUT\n",
    "n = int(input())\n",
    "\n",
    "names = set()\n",
    "\n",
    "for i in range(n):\n",
    "    names.add(input())\n",
    "    \n",
    "print(len(names))"
   ]
  },
  {
   "cell_type": "markdown",
   "id": "75d62dd8",
   "metadata": {},
   "source": [
    "# Date and Time"
   ]
  },
  {
   "cell_type": "markdown",
   "id": "422581fe",
   "metadata": {},
   "source": [
    "# 1 - Calendar Module"
   ]
  },
  {
   "cell_type": "code",
   "execution_count": null,
   "id": "f05a90cd",
   "metadata": {},
   "outputs": [],
   "source": [
    "# Enter your code here. Read input from STDIN. Print output to STDOUT\n",
    "import calendar\n",
    "\n",
    "M, D, Y = map(int, input().split())\n",
    "print(calendar.day_name[calendar.weekday(Y, M, D)].upper())"
   ]
  },
  {
   "cell_type": "markdown",
   "id": "10d399ff",
   "metadata": {},
   "source": [
    "# Errors and Exceptions"
   ]
  },
  {
   "cell_type": "markdown",
   "id": "bdbe5377",
   "metadata": {},
   "source": [
    "# 1 - Exceptions"
   ]
  },
  {
   "cell_type": "code",
   "execution_count": null,
   "id": "366107d8",
   "metadata": {},
   "outputs": [],
   "source": [
    "# Enter your code here. Read input from STDIN. Print output to STDOUT\n",
    "number = int(input())\n",
    "\n",
    "for i in range(number):\n",
    "    try:\n",
    "        x, y = map(int, input().split())\n",
    "        print(int(x // y))\n",
    "    except Exception as e:\n",
    "        print(\"Error Code:\",e)"
   ]
  },
  {
   "cell_type": "markdown",
   "id": "4bcbe02a",
   "metadata": {},
   "source": [
    "# Python Functionals"
   ]
  },
  {
   "cell_type": "markdown",
   "id": "9ab005ff",
   "metadata": {},
   "source": [
    "# 1 - Map and Lambda Function"
   ]
  },
  {
   "cell_type": "code",
   "execution_count": null,
   "id": "8ca22655",
   "metadata": {},
   "outputs": [],
   "source": [
    "cube = lambda x: x**3 # complete the lambda function \n",
    "\n",
    "def fibonacci(n):\n",
    "    # return a list of fibonacci numbers\n",
    "    res = [0, 1]\n",
    "    for i in range(2, n):\n",
    "        res.append(res[i - 1] + res[i - 2])\n",
    "    return (res[0:n])\n",
    "\n",
    "if __name__ == '__main__':\n",
    "    n = int(input())\n",
    "    print(list(map(cube, fibonacci(n))))"
   ]
  },
  {
   "cell_type": "markdown",
   "id": "824f5711",
   "metadata": {},
   "source": [
    "# Regex and Parsing"
   ]
  },
  {
   "cell_type": "markdown",
   "id": "c47fc169",
   "metadata": {},
   "source": [
    "# 1 - Detect Floating Point Number"
   ]
  },
  {
   "cell_type": "code",
   "execution_count": null,
   "id": "46a1e783",
   "metadata": {},
   "outputs": [],
   "source": [
    "# Enter your code here. Read input from STDIN. Print output to STDOUT\n",
    "import re\n",
    "\n",
    "T = int(input())\n",
    "\n",
    "for i in range(0, T):\n",
    "    \n",
    "    N = input()\n",
    "    \n",
    "    if re.match(r'^[+-]?[0-9]*[.][0-9]+$', N):\n",
    "        print(True)\n",
    "    else:\n",
    "        print(False)"
   ]
  },
  {
   "cell_type": "markdown",
   "id": "cfd8b1cd",
   "metadata": {},
   "source": [
    "# 2 - Re.split()"
   ]
  },
  {
   "cell_type": "code",
   "execution_count": null,
   "id": "50fe4063",
   "metadata": {},
   "outputs": [],
   "source": [
    "regex_pattern = r\"[.,]+\"\t# Do not delete 'r'.\n",
    "\n",
    "import re\n",
    "print(\"\\n\".join(re.split(regex_pattern, input())))"
   ]
  },
  {
   "cell_type": "markdown",
   "id": "c0c709ec",
   "metadata": {},
   "source": [
    "# 3 - Validating Roman Numerals"
   ]
  },
  {
   "cell_type": "code",
   "execution_count": null,
   "id": "de2d0471",
   "metadata": {},
   "outputs": [],
   "source": [
    "regex_pattern = r\"^(M{0,3})(C(?:D|M)|D?C{0,3})(X(?:L|C)|L?X{0,3})(I(?:V|X)|V?I{0,3})$\"\t# Do not delete 'r'.\n",
    "\n",
    "import re\n",
    "print(str(bool(re.match(regex_pattern, input()))))"
   ]
  },
  {
   "cell_type": "markdown",
   "id": "3d726982",
   "metadata": {},
   "source": [
    "# 4 - Validating phone numbers"
   ]
  },
  {
   "cell_type": "code",
   "execution_count": null,
   "id": "840545b2",
   "metadata": {},
   "outputs": [],
   "source": [
    "# Enter your code here. Read input from STDIN. Print output to STDOUT\n",
    "import re\n",
    "\n",
    "n = int(input())\n",
    "\n",
    "for i in range(0, n):\n",
    "    if (re.match(r'^(7|8|9)\\d{9}$', input())):\n",
    "        print('YES')\n",
    "    else:\n",
    "        print(\"NO\")"
   ]
  },
  {
   "cell_type": "markdown",
   "id": "9dc4a79c",
   "metadata": {},
   "source": [
    "# Numpy"
   ]
  },
  {
   "cell_type": "markdown",
   "id": "06b57f2d",
   "metadata": {},
   "source": [
    "# 1 - Arrays"
   ]
  },
  {
   "cell_type": "code",
   "execution_count": null,
   "id": "6eb2309a",
   "metadata": {},
   "outputs": [],
   "source": [
    "import numpy\n",
    "\n",
    "def arrays(arr):\n",
    "    # complete this function\n",
    "    # use numpy.array\n",
    "    arr.reverse()\n",
    "    return numpy.array(arr, float)\n",
    "    \n",
    "arr = input().strip().split(' ')\n",
    "result = arrays(arr)\n",
    "print(result)"
   ]
  },
  {
   "cell_type": "markdown",
   "id": "70e5e112",
   "metadata": {},
   "source": [
    "# 2 - Shape and Reshape"
   ]
  },
  {
   "cell_type": "code",
   "execution_count": null,
   "id": "33bab8d4",
   "metadata": {},
   "outputs": [],
   "source": [
    "import numpy\n",
    "\n",
    "n = list(map(int, input().split()))\n",
    "\n",
    "print(numpy.reshape(n, (3, 3)))"
   ]
  },
  {
   "cell_type": "markdown",
   "id": "09a3702f",
   "metadata": {},
   "source": [
    "# 3 - Zeros and Ones"
   ]
  },
  {
   "cell_type": "code",
   "execution_count": null,
   "id": "7fdb58c1",
   "metadata": {},
   "outputs": [],
   "source": [
    "import numpy\n",
    "\n",
    "n = list(map(int, input().split()))\n",
    "\n",
    "print(numpy.zeros(n, int))\n",
    "print(numpy.ones(n, int))"
   ]
  },
  {
   "cell_type": "markdown",
   "id": "5d6d32fe",
   "metadata": {},
   "source": [
    "# 4 - Array Mathematics"
   ]
  },
  {
   "cell_type": "code",
   "execution_count": null,
   "id": "3465c016",
   "metadata": {},
   "outputs": [],
   "source": [
    "import numpy\n",
    "\n",
    "N, M = map(int, input().split())\n",
    "\n",
    "A = numpy.array([list(map(int, input().split())) for i in range(N)])\n",
    "B = numpy.array([list(map(int, input().split())) for i in range(N)])\n",
    "\n",
    "print(numpy.add(A, B))\n",
    "print(numpy.subtract(A, B))\n",
    "print(numpy.multiply(A, B))\n",
    "print(numpy.divide(A, B).astype(int))\n",
    "print(numpy.mod(A, B))\n",
    "print(numpy.power(A, B))"
   ]
  },
  {
   "cell_type": "markdown",
   "id": "f572ecd0",
   "metadata": {},
   "source": [
    "# 5 - Polynomials"
   ]
  },
  {
   "cell_type": "code",
   "execution_count": null,
   "id": "094ea3e2",
   "metadata": {},
   "outputs": [],
   "source": [
    "import numpy\n",
    "\n",
    "coefficients = list(map(float, input().split()))\n",
    "x = float(input())\n",
    "\n",
    "print(numpy.polyval(coefficients, x))"
   ]
  },
  {
   "cell_type": "markdown",
   "id": "1b64246f",
   "metadata": {},
   "source": [
    "# Challenges"
   ]
  },
  {
   "cell_type": "markdown",
   "id": "316b00c5",
   "metadata": {},
   "source": [
    "# 1 - Birthday Cake Candles"
   ]
  },
  {
   "cell_type": "code",
   "execution_count": null,
   "id": "5f477656",
   "metadata": {},
   "outputs": [],
   "source": [
    "#!/bin/python3\n",
    "\n",
    "import math\n",
    "import os\n",
    "import random\n",
    "import re\n",
    "import sys\n",
    "\n",
    "#\n",
    "# Complete the 'birthdayCakeCandles' function below.\n",
    "#\n",
    "# The function is expected to return an INTEGER.\n",
    "# The function accepts INTEGER_ARRAY candles as parameter.\n",
    "#\n",
    "\n",
    "def birthdayCakeCandles(candles):\n",
    "    # Write your code here\n",
    "    max_candle = max(candles)\n",
    "    counter = 0\n",
    "    for i in range(0, len(candles)):\n",
    "        if (candles[i] == max_candle):\n",
    "            counter += 1\n",
    "\n",
    "    return counter\n",
    "\n",
    "if __name__ == '__main__':\n",
    "    fptr = open(os.environ['OUTPUT_PATH'], 'w')\n",
    "\n",
    "    candles_count = int(input().strip())\n",
    "\n",
    "    candles = list(map(int, input().rstrip().split()))\n",
    "\n",
    "    result = birthdayCakeCandles(candles)\n",
    "\n",
    "    fptr.write(str(result) + '\\n')\n",
    "\n",
    "    fptr.close()"
   ]
  }
 ],
 "metadata": {
  "kernelspec": {
   "display_name": "Python 3 (ipykernel)",
   "language": "python",
   "name": "python3"
  },
  "language_info": {
   "codemirror_mode": {
    "name": "ipython",
    "version": 3
   },
   "file_extension": ".py",
   "mimetype": "text/x-python",
   "name": "python",
   "nbconvert_exporter": "python",
   "pygments_lexer": "ipython3",
   "version": "3.9.12"
  }
 },
 "nbformat": 4,
 "nbformat_minor": 5
}
